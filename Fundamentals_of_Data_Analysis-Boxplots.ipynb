{
 "cells": [
  {
   "cell_type": "markdown",
   "metadata": {},
   "source": [
    "# Structure\n",
    "\n",
    "# Introduction\n",
    "\n",
    "This notebook will explore the boxplot, also known as box-and-whisker-plot. While widely used in statistics and analytics, it is not as intuitive to read to the untrained eye as many other common graphs, like a scatterplot or histogram. I will give some background on the boxplot, its creator, demonstrate how the boxplot can be generated in Python and also explain the relevant terminology needed to understand what boxplots are all about.\n",
    "\n",
    "\n",
    "<img src=\"http://4.bp.blogspot.com/-DJSvG22i-e8/U-IbKEFte9I/AAAAAAAABfI/Ng9lSqk2iX0/s1600/boxplotcat.jpg\" width=350>\n",
    "<img src=\"https://www.python-graph-gallery.com/wp-content/uploads/32_Custom_Boxplot_Appearance_Seaborn3.png\" width=350>\n",
    "\n",
    "\n",
    "\n",
    "# Background\n",
    "\n",
    "The boxplot was introduced in 1977 by John W. Tukey in his book \"Exploratory Data Analysis\" (EDA). "
   ]
  }
 ],
 "metadata": {
  "kernelspec": {
   "display_name": "Python 3",
   "language": "python",
   "name": "python3"
  },
  "language_info": {
   "codemirror_mode": {
    "name": "ipython",
    "version": 3
   },
   "file_extension": ".py",
   "mimetype": "text/x-python",
   "name": "python",
   "nbconvert_exporter": "python",
   "pygments_lexer": "ipython3",
   "version": "3.7.0"
  }
 },
 "nbformat": 4,
 "nbformat_minor": 2
}
