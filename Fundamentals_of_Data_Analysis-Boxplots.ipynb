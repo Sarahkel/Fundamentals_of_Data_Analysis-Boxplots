{
 "cells": [
  {
   "cell_type": "markdown",
   "metadata": {},
   "source": [
    "# Structure\n",
    "\n",
    "# Introduction\n",
    "\n",
    "This notebook will explore the boxplot, also known as box-and-whisker-plot. While widely used in statistics and analytics, it is not as intuitive to read to the untrained eye as many other common graphs, like a scatterplot or histogram. I will give some background on the boxplot, its creator, demonstrate how the boxplot can be generated in Python and also explain the relevant terminology needed to understand what boxplots are all about.\n",
    "\n",
    "\n",
    "<img src=\"http://4.bp.blogspot.com/-DJSvG22i-e8/U-IbKEFte9I/AAAAAAAABfI/Ng9lSqk2iX0/s1600/boxplotcat.jpg\" width=350>\n",
    "<img src=\"https://www.python-graph-gallery.com/wp-content/uploads/32_Custom_Boxplot_Appearance_Seaborn3.png\" width=350>\n",
    "\n",
    "\n",
    "\n",
    "# Background\n",
    "\n",
    "\n",
    "\n",
    "> \"the boxplot comes from the fertile brain of John Tukey (1977), who has done as much for exploring the beauty of data as Marilyn Monroe has done for the calendar\" (1)\n",
    "\n",
    "<img src=\"https://upload.wikimedia.org/wikipedia/en/e/e9/John_Tukey.jpg\" width=250>\n",
    "\n",
    "The boxplot was introduced in 1977 by John W. Tukey in his book \"Exploratory Data Analysis\" (EDA). Tukey believed that more emphasis needs to be placed on exploring the data first to come up with a suitable hypothesis, rather than going in immediately with statistical hypothesis testing as this can lead to bias. (2) A train of thought that he shared with his colleague Francis Anscombe, who demonstrated on the Anscombe quartet that descriptive statistics by themselves can be misleading.\n",
    "\n",
    "Tukey has already been a household name in statistics being a founding chairman of the Princeton statistics department and being credited to have coined the term \"bit\" as a shorter version of \"binary digit\" while working with John von Neumann on early computer designs (2).\n",
    "\n",
    "The boxplot distinguishes itself from many other data visualizations by displaying the \"five number summary\" of the data at hand as well as displaying outliers clearly.\n",
    "\n",
    "\n",
    "(1) Biostatistics: The Bare Essentials,  Geoffrey R. Norman, David L. Streiner, 2008, p. 26\n",
    "\n",
    "(2) https://en.wikipedia.org/wiki/John_Tukey\n",
    "\n",
    "(3) https://en.wikipedia.org/wiki/Five-number_summary\n",
    "\n",
    "# Practical Examples\n",
    "\n",
    "In this section I will demonstrate boxplots and explain the above terminology. There are several ways to generate boxplots in Python. Packages such as pandas, seaborn and matplotlib offer inbuilt commands to call a boxplot and various ways to customize the plot.\n",
    "\n",
    "To illustrate the boxplot and its characterists, let's have a look at boxplots of the famous Iris Data Set. The Iris Data Set contains of measurements of 3 different species of the Iris flower.\n",
    "\n"
   ]
  },
  {
   "cell_type": "markdown",
   "metadata": {},
   "source": [
    "\n",
    "# Terminology\n",
    "\n",
    "Above I have introducted the 5 number summary. The five numbers heavily rely on **percentiles**. The nth percentile usually indicates that n percent of samples fall below this percentile. If you score in the 80th percentile in an exam, then 80% of results are below your mark meaning that you scored better than 80% of the other students. (1) There are different approches to whether or not the nth percentile is the lowest score that is greater than n percent, or whether it is the score that is greater or equal. A good overview on this discussion can be found on wikipedia.\n",
    "\n",
    "\n",
    "<img src=\"https://www.statisticshowto.datasciencecentral.com/wp-content/uploads/2013/09/percentile.png\" width=350>\n",
    "\n",
    "\n",
    "the 5 most important sample percentiles (3): \n",
    "\n",
    "  * **the sample minimum (smallest observation)**: This is the 0th percentile.\n",
    "\n",
    "  * **the lower quartile or first quartile**: This is the 25th percentile.\n",
    "\n",
    "  * **the median (the middle value)**: This is the 50th percentile.\n",
    "\n",
    "  * **the upper quartile or third quartile**: This is the 75th percentile.\n",
    "\n",
    "  * **the sample maximum (largest observation)**: This is the  100th percentile.\n",
    "\n",
    "The interquartile range refers to the difference etween the third and first quartile, the 75th percentile and the 25th percentile meaning the middle 50% of data. (1)\n",
    "\n",
    "- skewed\n",
    "\n",
    "(1) https://www.statisticshowto.datasciencecentral.com/probability-and-statistics/percentiles-rank-range/\n"
   ]
  },
  {
   "cell_type": "code",
   "execution_count": 28,
   "metadata": {},
   "outputs": [
    {
     "name": "stdout",
     "output_type": "stream",
     "text": [
      "   sepal_length  sepal_width  petal_length  petal_width species\n",
      "0           5.1          3.5           1.4          0.2  setosa\n",
      "1           4.9          3.0           1.4          0.2  setosa\n",
      "2           4.7          3.2           1.3          0.2  setosa\n",
      "3           4.6          3.1           1.5          0.2  setosa\n",
      "4           5.0          3.6           1.4          0.2  setosa\n"
     ]
    },
    {
     "data": {
      "image/png": "[encoded data removed]",
      "text/plain": [
       "<Figure size 432x288 with 1 Axes>"
      ]
     },
     "metadata": {
      "needs_background": "light"
     },
     "output_type": "display_data"
    },
    {
     "name": "stdout",
     "output_type": "stream",
     "text": [
      "sepal_length    5.843333\n",
      "sepal_width     3.054000\n",
      "petal_length    3.758667\n",
      "petal_width     1.198667\n",
      "dtype: float64\n",
      "sepal_length    5.80\n",
      "sepal_width     3.00\n",
      "petal_length    4.35\n",
      "petal_width     1.30\n",
      "dtype: float64\n"
     ]
    }
   ],
   "source": [
    "import matplotlib.pyplot as plt\n",
    "import numpy as np\n",
    "import pandas as pd\n",
    "from sklearn import datasets\n",
    "import seaborn as sb \n",
    "from sklearn.datasets import load_iris\n",
    "\n",
    "#load dataset\n",
    "iris = pd.read_csv('https://gist.githubusercontent.com/curran/a08a1080b88344b0c8a7/raw/d546eaee765268bf2f487608c537c05e22e4b221/iris.csv')\n",
    "print(iris.head()) #show first 5 rows\n",
    "\n",
    "#generate boxplot of columns\n",
    "sb.boxplot(data = iris, orient = 'h', showmeans=True)\n",
    "plt.show()\n",
    "#mean vs median\n",
    "print(iris.mean())\n",
    "print(iris.median())"
   ]
  },
  {
   "cell_type": "markdown",
   "metadata": {},
   "source": [
    "The boxplot above gives a great overview of the data at hand. Let's analyse the 5 number summary for the features in the dataset. \n",
    "\n",
    "\n",
    "\n"
   ]
  },
  {
   "cell_type": "code",
   "execution_count": 20,
   "metadata": {},
   "outputs": [
    {
     "name": "stdout",
     "output_type": "stream",
     "text": [
      "  dataset     x     y\n",
      "0       I  10.0  8.04\n",
      "1       I   8.0  6.95\n",
      "2       I  13.0  7.58\n",
      "3       I   9.0  8.81\n",
      "4       I  11.0  8.33\n"
     ]
    },
    {
     "data": {
      "text/plain": [
       "<matplotlib.axes._subplots.AxesSubplot at 0x1d164dfdd68>"
      ]
     },
     "execution_count": 20,
     "metadata": {},
     "output_type": "execute_result"
    },
    {
     "data": {
      "image/png": "[encoded data removed]",
      "text/plain": [
       "<Figure size 432x288 with 1 Axes>"
      ]
     },
     "metadata": {
      "needs_background": "light"
     },
     "output_type": "display_data"
    }
   ],
   "source": [
    "anscombe = sb.load_dataset(\"anscombe\")\n",
    "\n",
    "print(anscombe.head())\n",
    "I = anscombe[anscombe['dataset']== 'I']\n",
    "II = anscombe[anscombe['dataset']== 'II']\n",
    "III = anscombe[anscombe['dataset']== 'III']\n",
    "IV = anscombe[anscombe['dataset']== 'IV']\n",
    "sb.boxplot(data=anscombe,x=\"dataset\",y='y')"
   ]
  },
  {
   "cell_type": "markdown",
   "metadata": {},
   "source": []
  },
  {
   "cell_type": "markdown",
   "metadata": {},
   "source": [
    "\n",
    "# Alternatives and Evolution\n",
    "\n",
    "\n",
    "As can be seen above, the boxplot is a powerful tool to quickly showcase the five number summary of data. It relies on actual datapoints rather than calculated values, such as the mean. However, this poses a limitation to the cases in which the boxplot can be used: the data has to be rankable. (1) \n",
    "\n",
    "However, it also has its limitations. The boxes do not show how many datapoints they contain and in comparison to a histogram, information about the distribution isn't as detailed. As Hadley Wickham and Lisa Stryjewski point out in their paper \"40 years of boxplots\" these constraints may stem from the origins of the boxplots. In the 70s, before computers were as advanced and common in every household, the boxplot was designed to be drawn by hand,  easily put together once the 5 number summary was calculated. (1)\n",
    "\n",
    "Since then, the boxplot has seen  various evolutions and the above mentioned paper gives a great overview of these evolutions, including colored variants and attempts to give boxplots a second dimension. \n",
    "\n",
    "\n",
    "(1)http://vita.had.co.nz/papers/boxplots.pdf\n",
    "\n",
    "\n",
    "# Conclusion\n",
    "- When to use\n",
    "- main terminology"
   ]
  }
 ],
 "metadata": {
  "kernelspec": {
   "display_name": "Python 3",
   "language": "python",
   "name": "python3"
  },
  "language_info": {
   "codemirror_mode": {
    "name": "ipython",
    "version": 3
   },
   "file_extension": ".py",
   "mimetype": "text/x-python",
   "name": "python",
   "nbconvert_exporter": "python",
   "pygments_lexer": "ipython3",
   "version": "3.7.0"
  }
 },
 "nbformat": 4,
 "nbformat_minor": 2
}
